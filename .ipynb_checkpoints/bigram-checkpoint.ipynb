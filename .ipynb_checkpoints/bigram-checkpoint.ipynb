{
 "cells": [
  {
   "cell_type": "code",
   "execution_count": 1,
   "id": "7db546d2",
   "metadata": {},
   "outputs": [
    {
     "name": "stdout",
     "output_type": "stream",
     "text": [
      "cpu\n"
     ]
    }
   ],
   "source": [
    "import torch\n",
    "device = 'cuda' if torch.cuda.is_available() else 'cpu'\n",
    "print(device)"
   ]
  },
  {
   "cell_type": "code",
   "execution_count": 2,
   "id": "8b986a0e",
   "metadata": {},
   "outputs": [
    {
     "name": "stdout",
     "output_type": "stream",
     "text": [
      "232317\n"
     ]
    }
   ],
   "source": [
    "with open('wizard_of_oz.txt', 'r', encoding='utf-8') as f:\n",
    "    text = f.read()\n",
    "print(len(text))"
   ]
  },
  {
   "cell_type": "code",
   "execution_count": null,
   "id": "cc552016",
   "metadata": {},
   "outputs": [],
   "source": []
  },
  {
   "cell_type": "code",
   "execution_count": 3,
   "id": "8d1b7961",
   "metadata": {},
   "outputs": [
    {
     "name": "stdout",
     "output_type": "stream",
     "text": [
      "﻿\n",
      "\n",
      "\t\t  DOROTHY AND THE WIZARD IN OZ\n",
      "\n",
      "  BY\n",
      "\n",
      "  L. FRANK BAUM\n",
      "\n",
      "  AUTHOR OF THE WIZARD OF OZ, THE LAND OF OZ, OZMA OF OZ, ETC.\n",
      "\n",
      "  ILLUSTRATED BY JOHN R. NEILL\n",
      "\n",
      "  BOOKS OF WONDER WILLIAM MORROW & CO., INC.\n"
     ]
    }
   ],
   "source": [
    "print(text[:200])"
   ]
  },
  {
   "cell_type": "code",
   "execution_count": 4,
   "id": "0d51b6c4",
   "metadata": {},
   "outputs": [
    {
     "name": "stdout",
     "output_type": "stream",
     "text": [
      "['\\t', '\\n', ' ', '!', '\"', '&', \"'\", '(', ')', '*', ',', '-', '.', '0', '1', '2', '3', '4', '5', '6', '7', '8', '9', ':', ';', '?', 'A', 'B', 'C', 'D', 'E', 'F', 'G', 'H', 'I', 'J', 'K', 'L', 'M', 'N', 'O', 'P', 'Q', 'R', 'S', 'T', 'U', 'V', 'W', 'X', 'Y', 'Z', '[', ']', '_', 'a', 'b', 'c', 'd', 'e', 'f', 'g', 'h', 'i', 'j', 'k', 'l', 'm', 'n', 'o', 'p', 'q', 'r', 's', 't', 'u', 'v', 'w', 'x', 'y', 'z', '\\ufeff']\n"
     ]
    }
   ],
   "source": [
    "#create a vocabulary of all characters in the book\n",
    "chars = sorted(set(text))\n",
    "print(chars)"
   ]
  },
  {
   "cell_type": "code",
   "execution_count": 5,
   "id": "9b2181ba",
   "metadata": {},
   "outputs": [],
   "source": [
    "#create a tokenizer(encoder + decoder)\n",
    "#encoder converts each character to integer\n",
    "#decoder decodes it back\n",
    "\n",
    "\n",
    "# string_to_int = { ch : i for i,ch in enumerate(chars)}\n",
    "# int_to_string = { i : ch for i,ch in enumerate(chars)}\n",
    "# encode = lambda s: [string_to_int[c] for c in s]\n",
    "# decode = lambda l: ''.join([int_to_string[i] for i in l])\n",
    "\n",
    "# encoded_hello = encode('hello')\n",
    "# print(encoded_hello)\n",
    "# decoded_hello = decode(encoded_hello)\n",
    "# print(decoded_hello)"
   ]
  },
  {
   "cell_type": "code",
   "execution_count": 6,
   "id": "9ff3b215",
   "metadata": {},
   "outputs": [
    {
     "name": "stdout",
     "output_type": "stream",
     "text": [
      "tensor([81,  1,  1,  0,  0,  2,  2, 29, 40, 43, 40, 45, 33, 50,  2, 26, 39, 29,\n",
      "         2, 45, 33, 30,  2, 48, 34, 51, 26, 43, 29,  2, 34, 39,  2, 40, 51,  1,\n",
      "         1,  2,  2, 27, 50,  1,  1,  2,  2, 37, 12,  2, 31, 43, 26, 39, 36,  2,\n",
      "        27, 26, 46, 38,  1,  1,  2,  2, 26, 46, 45, 33, 40, 43,  2, 40, 31,  2,\n",
      "        45, 33, 30,  2, 48, 34, 51, 26, 43, 29,  2, 40, 31,  2, 40, 51, 10,  2,\n",
      "        45, 33, 30,  2, 37, 26, 39, 29,  2, 40])\n"
     ]
    }
   ],
   "source": [
    "# now let us use pytorch to do all of this stuff\n",
    "string_to_int = { ch : i for i,ch in enumerate(chars)}\n",
    "int_to_string = { i : ch for i,ch in enumerate(chars)}\n",
    "encode = lambda s: [string_to_int[c] for c in s]\n",
    "decode = lambda l: ''.join([int_to_string[i] for i in l])\n",
    "\n",
    "data = torch.tensor(encode(text), dtype=torch.long)\n",
    "print(data[:100])"
   ]
  },
  {
   "cell_type": "code",
   "execution_count": 7,
   "id": "cd001fe7",
   "metadata": {},
   "outputs": [],
   "source": [
    "#Split data into training anf testing model\n",
    "n = int(0.8*len(data))\n",
    "train_data = data[:n]\n",
    "test_data = data[n:]"
   ]
  },
  {
   "cell_type": "code",
   "execution_count": 8,
   "id": "4c611606",
   "metadata": {},
   "outputs": [
    {
     "name": "stdout",
     "output_type": "stream",
     "text": [
      "When input is  tensor([81])  target is  tensor(1)\n",
      "When input is  tensor([81,  1])  target is  tensor(1)\n",
      "When input is  tensor([81,  1,  1])  target is  tensor(0)\n",
      "When input is  tensor([81,  1,  1,  0])  target is  tensor(0)\n",
      "When input is  tensor([81,  1,  1,  0,  0])  target is  tensor(2)\n",
      "When input is  tensor([81,  1,  1,  0,  0,  2])  target is  tensor(2)\n",
      "When input is  tensor([81,  1,  1,  0,  0,  2,  2])  target is  tensor(29)\n",
      "When input is  tensor([81,  1,  1,  0,  0,  2,  2, 29])  target is  tensor(40)\n"
     ]
    }
   ],
   "source": [
    "#Visualisation of bigram context\n",
    "block_size = 8\n",
    "x = train_data[:block_size]\n",
    "y = train_data[1:block_size +1]\n",
    "\n",
    "for t in range(block_size):\n",
    "    context = x[:t+1]\n",
    "    target = y[t]\n",
    "    print('When input is ', context, ' target is ', target)"
   ]
  },
  {
   "cell_type": "code",
   "execution_count": 9,
   "id": "9e5e447a",
   "metadata": {},
   "outputs": [],
   "source": [
    "#Block Size - leangth of each sequence\n",
    "#Batch Size - No of sequences learning at the same time"
   ]
  }
 ],
 "metadata": {
  "kernelspec": {
   "display_name": "cuda-gpt",
   "language": "python",
   "name": "cuda"
  },
  "language_info": {
   "codemirror_mode": {
    "name": "ipython",
    "version": 3
   },
   "file_extension": ".py",
   "mimetype": "text/x-python",
   "name": "python",
   "nbconvert_exporter": "python",
   "pygments_lexer": "ipython3",
   "version": "3.11.5"
  }
 },
 "nbformat": 4,
 "nbformat_minor": 5
}
